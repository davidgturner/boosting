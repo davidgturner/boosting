{
 "cells": [
  {
   "cell_type": "code",
   "execution_count": 19,
   "metadata": {
    "id": "1Rg2uSiFSRJe"
   },
   "outputs": [],
   "source": [
    "import numpy as np\n",
    "import matplotlib.pyplot as plt\n",
    "from sklearn import preprocessing\n",
    "from sklearn.linear_model import LogisticRegression\n",
    "import math\n",
    "import matplotlib.pyplot as plt"
   ]
  },
  {
   "cell_type": "markdown",
   "metadata": {
    "id": "oDTSO7-MSRJj"
   },
   "source": [
    "# Problem 1\n",
    "## Dataset Generation"
   ]
  },
  {
   "cell_type": "markdown",
   "metadata": {
    "id": "Tx7KW28cSRJk"
   },
   "source": [
    "Write a function to **generate a training set** of size $m$\n",
    "- randomly generate a weight vector $w \\in \\mathbb{R}^{10}$, normalize length\n",
    "- generate a training set $\\{(x_i , y_i)\\}$ of size m\n",
    "  - $x_i$: random vector in $\\mathbb{R}^{10}$ from $\\textbf{N}(0, I)$\n",
    "  - $y_i$: $\\{0, +1\\}$ with $P[y = +1] = \\sigma(w \\cdot x_i)$ and $P[y = 0] = 1 - \\sigma(w \\cdot x_i)$"
   ]
  },
  {
   "cell_type": "code",
   "execution_count": 20,
   "metadata": {
    "id": "AUHuXrsgSRJl"
   },
   "outputs": [
    {
     "name": "stdout",
     "output_type": "stream",
     "text": [
      "w_star:  [-0.35267002  0.40162094  0.6065412  -0.00245468  0.4828995   0.17742077\n",
      " -0.16159724 -0.13142696 -0.01228984  0.19549529]\n",
      "X:  [[-2.52374367e+00 -1.27949107e+00  7.60122525e-01  1.00916126e+00\n",
      "  -3.86284422e-01  3.33018318e-01 -7.99647772e-01  1.31631682e-01\n",
      "  -1.76533457e-01 -1.41934100e+00]\n",
      " [ 3.75806526e-01  4.40150269e-01  5.58463588e-01 -2.04726549e-01\n",
      "   1.22374743e+00 -6.81931560e-01 -5.23743605e-01 -1.78365985e+00\n",
      "  -1.08196060e-01  5.81712706e-01]\n",
      " [-8.36454825e-01 -6.08195909e-01 -1.33355406e-01 -9.55831011e-01\n",
      "  -3.68572608e-01 -1.47736009e-01  6.99198727e-01 -6.56944863e-01\n",
      "  -2.02658825e+00  1.68802816e-01]\n",
      " [-1.12041363e+00 -5.00009997e-01 -1.54845620e+00  8.01508462e-01\n",
      "  -3.75966885e-01  9.27855770e-01 -1.08483813e+00  5.02293069e-01\n",
      "  -9.21967136e-02  1.46298373e-01]\n",
      " [ 1.06981250e+00  8.39673985e-01 -1.98562376e-01 -6.03592517e-01\n",
      "  -2.49253660e-02  6.66236815e-02 -1.42779415e+00  5.21615110e-01\n",
      "  -4.21465015e-01  5.92849795e-01]\n",
      " [-8.72022742e-01  9.87575161e-01  9.80946926e-01  6.53465211e-01\n",
      "   1.25290944e+00 -4.41428959e-01  7.17594515e-01  1.22448950e+00\n",
      "  -3.21531610e-01 -3.21680129e-01]\n",
      " [ 7.96533598e-01  1.20157823e+00 -8.90900202e-02  1.44749624e+00\n",
      "  -1.50740023e+00  1.36543787e+00  8.55793131e-02 -1.19702544e+00\n",
      "   1.52244846e+00  9.94205966e-01]\n",
      " [-7.38066264e-01 -2.44907770e-01  3.53042686e-01  2.98825875e-01\n",
      "  -3.61464251e-02 -2.47841847e+00  6.14970864e-01 -7.88100335e-01\n",
      "   1.55602461e+00 -1.64966599e-01]\n",
      " [ 8.41761446e-01 -4.66988654e-01  1.97778401e+00 -5.83271100e-01\n",
      "   3.18318197e-01  7.98405609e-01  8.65708498e-01 -2.76681029e-01\n",
      "  -1.31162480e+00 -1.36031149e+00]\n",
      " [ 9.95626284e-01 -7.56435039e-01 -5.04128611e-01  2.84382173e-01\n",
      "  -2.41091812e-01 -9.04415542e-01 -6.78683394e-01  3.76952164e-01\n",
      "   9.23063997e-01 -7.79246170e-01]\n",
      " [ 2.39540821e+00  7.36104828e-01  9.93528029e-01  1.11650420e-01\n",
      "   1.24514726e+00 -4.10907274e-01 -5.19208018e-01 -4.70579860e-01\n",
      "   7.36485662e-01  5.31853387e-01]\n",
      " [ 1.27268453e+00 -4.43513125e-01 -9.89499466e-01  2.54359837e+00\n",
      "   5.60540030e-01 -1.96015642e-01 -9.58695971e-01 -4.99473031e-01\n",
      "  -5.00446483e-01  9.46927856e-01]\n",
      " [ 1.27366307e+00 -2.94260768e-01  2.00792944e-01 -1.10133172e+00\n",
      "   1.36874123e+00  1.55059850e+00  1.49727918e-01  1.32153004e+00\n",
      "   3.36825774e-01  2.09368793e+00]\n",
      " [ 6.43954331e-01 -4.97084901e-01 -1.51875071e+00  2.55525281e-02\n",
      "  -8.56147849e-01  7.54871154e-02 -9.33702909e-01  1.18290155e+00\n",
      "   9.69874189e-01  6.16602377e-01]\n",
      " [ 9.63764887e-01  1.27289586e+00 -2.02226601e-01  8.18849214e-01\n",
      "  -8.59646197e-01 -8.29340708e-01  8.09544835e-01 -4.83181236e-01\n",
      "  -8.88950051e-01 -8.37107752e-01]\n",
      " [-4.89061268e-01  1.70545685e+00 -9.19249918e-01  1.69996810e+00\n",
      "  -9.09391958e-01  3.27924449e-01  1.22089424e-01 -1.48904375e+00\n",
      "   1.51411889e+00  3.71220563e-02]\n",
      " [-6.14490321e-01  2.90040061e-01  8.41145046e-01 -5.73010391e-01\n",
      "   1.46021420e+00  2.44225355e-01 -4.67954847e-01  1.52313765e-01\n",
      "  -2.25007789e+00  1.00245630e+00]\n",
      " [-1.55203652e+00  7.48253439e-01  8.36065674e-01 -1.45381701e+00\n",
      "   5.28850849e-02 -2.84408864e-01  3.11491184e-01  1.50995096e-01\n",
      "  -4.98379368e-01 -5.70577875e-01]\n",
      " [-1.62947743e+00 -6.67662997e-01 -2.05895160e-01 -1.39198116e+00\n",
      "   5.75664172e-01 -1.91509296e+00  1.43541124e-01 -4.55685014e-01\n",
      "   4.68964323e-01 -2.91887449e-01]\n",
      " [-9.83222889e-03 -1.35830639e+00  7.59503489e-01 -7.54703693e-01\n",
      "  -7.81929146e-01 -1.10323341e+00 -3.83977812e-01  8.02622021e-01\n",
      "  -5.25453958e-01 -4.78820516e-01]\n",
      " [ 7.73690681e-01 -8.60061509e-01  1.59178297e+00 -1.12125410e+00\n",
      "   5.26874594e-01  2.66242120e-01 -3.06588903e+00  4.34219569e-01\n",
      "  -1.16081292e+00 -6.14308304e-01]\n",
      " [ 1.71352441e+00  8.68468550e-01 -2.21055633e-01  1.69960460e-01\n",
      "   7.79285160e-01 -1.17733405e-02 -4.37812117e-01  7.04529846e-01\n",
      "   1.26609899e-01 -1.77899390e+00]\n",
      " [ 2.26446332e-01  1.64867053e+00  2.61223338e-02  3.41871089e-01\n",
      "  -4.37130856e-01  3.27794825e-01  1.53111826e-01 -1.14667114e-01\n",
      "   1.55464878e-01 -4.14134207e-01]\n",
      " [ 3.42798527e-02  1.75415637e+00  8.95888887e-01 -3.47050654e-01\n",
      "  -8.83971946e-01 -2.38829366e-01 -1.81835966e-01  3.76770483e-02\n",
      "  -1.21499856e+00 -1.02451670e+00]\n",
      " [-9.35318130e-01  2.22495253e+00 -3.56226733e-01  7.61307873e-01\n",
      "   3.81963639e-01  3.66223734e-01 -2.18515758e-04 -1.89917489e-01\n",
      "  -1.18682600e+00 -2.35698558e+00]\n",
      " [ 2.16962289e+00  3.63054520e-01 -2.67475275e-01 -8.10714019e-02\n",
      "  -3.13094435e-01  3.98319736e-01  2.23294073e-01 -8.23022795e-02\n",
      "  -1.45610311e+00  1.00336189e-01]\n",
      " [-1.86441670e-01  6.93086647e-01 -5.12457521e-01 -9.69215651e-01\n",
      "  -3.53930926e-01 -1.58963955e+00 -5.92164900e-01 -5.02122911e-01\n",
      "  -1.15053824e-01  7.87880925e-01]\n",
      " [-4.16722221e-01  7.70172612e-01  8.82218694e-01  1.54168120e+00\n",
      "   4.32705757e-01 -1.69508922e+00  1.86925974e-01  1.91232901e-01\n",
      "   8.81191113e-02 -7.02874036e-01]\n",
      " [-2.33491755e+00 -3.15056678e-01 -1.21160736e+00 -1.13626362e+00\n",
      "  -3.69462873e-01 -9.26519356e-01  1.17658469e+00  4.12029882e-01\n",
      "  -1.47895559e+00  6.89887711e-01]\n",
      " [-6.79316376e-01 -3.74730580e-01 -4.87560235e-01 -1.50325912e+00\n",
      "  -2.97851194e-01  1.19125566e-01  3.28840458e-01  8.27615036e-01\n",
      "  -1.43848636e+00 -1.39730939e-01]\n",
      " [ 3.91251728e-01 -2.77994800e-01  9.15433654e-01 -9.86411101e-01\n",
      "   3.95095523e-01 -1.56514571e+00 -6.53873837e-01 -1.07391621e+00\n",
      "  -5.92148655e-02 -3.41735969e-01]\n",
      " [ 1.50011305e-01  1.23274495e+00 -8.65302156e-01 -8.49593870e-01\n",
      "   1.97827584e+00  5.58275277e-01  9.91310746e-01  5.90914670e-01\n",
      "  -1.91205141e+00  1.04949235e-01]\n",
      " [ 2.00241050e+00  7.10744640e-01 -1.72303132e+00  2.34581650e+00\n",
      "  -4.58342636e-01  9.76329000e-01 -3.18180298e-01  2.79727652e-01\n",
      "   4.24934991e-01  1.91735562e+00]\n",
      " [ 2.64663930e+00 -4.76568292e-01 -1.40919567e+00 -1.74833950e+00\n",
      "   2.05622865e+00  6.89203392e-01  2.20153675e-01 -1.34983201e+00\n",
      "  -1.92787133e+00  2.62294945e+00]\n",
      " [-1.71634346e+00 -3.03606222e-01 -2.35589894e-01 -6.30588987e-01\n",
      "  -2.41328990e-01 -1.06273404e+00  1.72502221e+00 -4.43958391e-01\n",
      "   8.18315172e-01 -2.70758938e-02]\n",
      " [ 1.19843462e+00  1.20002420e+00 -4.22855051e-01  6.93710281e-01\n",
      "  -6.67432251e-01 -1.29581408e+00  4.01982190e-01 -6.37663799e-01\n",
      "  -1.45359791e+00 -2.88901796e-01]\n",
      " [ 2.06908796e+00  8.34300642e-01 -3.12739803e-01 -9.48254512e-02\n",
      "   9.42009556e-02  1.15078813e+00 -7.75684790e-01  6.80697990e-02\n",
      "  -3.42452354e-01  1.83379182e+00]\n",
      " [ 1.08711761e+00  7.63151978e-01 -3.51619649e-01  1.57334889e-01\n",
      "   5.55504643e-01 -7.68256483e-01  9.41917350e-01  9.65234326e-01\n",
      "  -1.34446248e+00 -2.24169810e-01]\n",
      " [ 1.18959379e+00 -2.18883208e-01  1.45620237e+00  1.85000417e-01\n",
      "   1.89864600e+00  1.49948844e+00 -3.56527016e-01 -5.63199438e-01\n",
      "  -7.27003460e-01  7.63913042e-01]\n",
      " [ 8.40426325e-01  5.98076024e-01  7.76044966e-01  1.70386892e+00\n",
      "  -1.59310095e+00  2.63268860e-01  1.67718759e+00 -1.70886382e-01\n",
      "  -2.83729942e-01  4.12604597e-01]\n",
      " [ 3.34807555e-01  8.56653707e-01  1.11863369e+00 -3.34657684e-01\n",
      "  -1.09458250e+00  1.43027589e+00 -1.07176722e+00 -6.34257075e-01\n",
      "   6.62618019e-01  8.06959637e-01]\n",
      " [ 3.28307304e-01 -6.91226266e-02  1.05179951e+00 -5.97194140e-02\n",
      "  -4.17752089e-02  1.53127428e+00  1.33721086e-01 -1.72406818e+00\n",
      "   6.51347857e-01 -3.65508613e-01]\n",
      " [ 5.86604710e-01 -1.24491621e+00 -3.88587579e-02 -1.63698395e-01\n",
      "   3.73374734e-01 -6.29474206e-01  1.95016656e+00  4.01025447e-01\n",
      "   1.06574759e+00  4.48510325e-01]\n",
      " [ 4.96470682e-01 -4.93928806e-03  5.08034323e-01 -1.17729653e-01\n",
      "  -1.66036743e+00  3.58937678e-01  1.44136386e+00  5.54385610e-02\n",
      "  -1.88472747e-01 -1.10227323e+00]\n",
      " [ 1.51984105e+00  5.26966394e-01  1.42112670e+00 -1.00146204e+00\n",
      "   2.88947092e-01 -2.44280524e-01 -1.16878894e-01  1.88829576e+00\n",
      "   1.55294071e+00  8.11741589e-02]\n",
      " [ 2.12839096e+00  3.11489067e-01  1.42641881e+00 -6.98243795e-01\n",
      "  -5.11776344e-02 -9.45789648e-01  5.81632770e-01  2.45220539e+00\n",
      "  -2.03592846e+00  4.37359609e-01]\n",
      " [-1.41827511e+00  1.19587495e+00  1.37398350e+00 -2.17018415e-01\n",
      "  -6.74483565e-01  2.40303619e-01 -8.43899882e-01  2.42338788e-01\n",
      "  -9.08513317e-01  8.86711700e-01]\n",
      " [ 2.46897930e-01 -5.32489877e-01  7.65809716e-01  3.62274736e-01\n",
      "  -2.50841153e-01  2.24969277e+00 -6.81240096e-01 -1.90631615e-01\n",
      "   8.70464915e-03 -1.68810679e+00]\n",
      " [ 7.74920438e-01  1.39445000e+00  2.72579006e-01  4.85965115e-01\n",
      "   3.08981367e-01  3.91805253e-01 -4.38507857e-01  5.78053268e-01\n",
      "   7.86657297e-01  2.48055859e-01]\n",
      " [-1.36972627e+00 -2.78327855e-01 -9.81409562e-01  1.75570080e-01\n",
      "   2.12425663e-02  1.90231886e-01 -1.23040932e+00  7.94109572e-02\n",
      "   2.22793331e-01 -5.19901929e-01]]\n",
      "y:  [0 1 1 0 0 1 0 1 0 0 1 0 1 0 1 1 1 1 1 0 0 0 0 1 1 0 0 1 0 0 1 1 0 0 0 0 0\n",
      " 0 1 0 1 0 0 1 1 0 0 0 0 0]\n"
     ]
    }
   ],
   "source": [
    "# get_w_star_vector - gets a weight vector (w*) whose Euclidean norm equals 1.\n",
    "def get_w_star_vector():\n",
    "    # i. generate each element of w* so that it's distributed standard normal N(0,1)\n",
    "    standard_norm_rand_vector = np.random.standard_normal(10)\n",
    "    # ii. normalize w* by |w*| so that it's Euclidean norm (L2) is equal to 1\n",
    "    euclidean_norm_vector_np = np.linalg.norm(standard_norm_rand_vector)\n",
    "    normalized_vector = standard_norm_rand_vector / euclidean_norm_vector_np\n",
    "    return normalized_vector\n",
    "\n",
    "# generate_random_vectors\n",
    "# m is the size of the vector produced, and m would represent the # of samples\n",
    "def generate_random_vectors(m):\n",
    "    rand_x_vectors = []\n",
    "    for i in range(m):\n",
    "        standard_norm_rand_vector = np.random.standard_normal(10)\n",
    "        rand_x_vectors.append(standard_norm_rand_vector)\n",
    "    return rand_x_vectors\n",
    "\n",
    "# generate_X generates X's from x^1 to x^m\n",
    "def generate_X(m):\n",
    "    X = generate_random_vectors(m)\n",
    "    return X\n",
    "\n",
    "# sigmoid function\n",
    "def sigmoid(x):\n",
    "    sig = 1 / (1 + math.exp(-x))\n",
    "    return sig\n",
    "\n",
    "# gen_label returns 1 if a random X in uniform dist ( in (0,1)) is less than\n",
    "# or equal to sigmoid of input x. else return 0\n",
    "def gen_label(x):\n",
    "    # get a uniform value between 0 and 1\n",
    "    rand_uniform_X = np.random.uniform(0, 1, 1)\n",
    "    sigmoid_check_val = sigmoid(x)\n",
    "    if rand_uniform_X <= sigmoid_check_val:\n",
    "        return 1\n",
    "    else:\n",
    "        return 0\n",
    "\n",
    "# generate_y_vector generates a y vector based on a x vector by\n",
    "# calling gen_label for each x^i value.\n",
    "def generate_y_vector(X_param, w_star_param):\n",
    "    y_vector = []\n",
    "\n",
    "    X_np = np.array(X_param)\n",
    "    w_star_np = np.array(w_star_param)\n",
    "    w_star_np_T = w_star_np.T\n",
    "\n",
    "    w_star_X = X_np.dot(w_star_np_T[:, None])\n",
    "\n",
    "    for i in range(w_star_X.shape[0]):\n",
    "        x_i = w_star_X[i]\n",
    "        y = gen_label(x_i)\n",
    "        y_vector.append(y)\n",
    "    return y_vector\n",
    "\n",
    "# generate_y generates y's from y^1 to y^m\n",
    "# uses the the following function to generate binary values at random\n",
    "# GenLabel (x^i) = { 1 - X <= sigma (w^*T x^i) , X ~ UNIFORM (0,1)\n",
    "#                  { 0 otherwise\n",
    "def generate_y(X, w_star):\n",
    "    y = generate_y_vector(X, w_star)\n",
    "    return y\n",
    "\n",
    "def generate_data(m):\n",
    "    # returns the true w as well as X, Y data\n",
    "    weight_vector = []\n",
    "    weight_vector = get_w_star_vector()\n",
    "\n",
    "    X = np.array(generate_X(m))\n",
    "    y = np.array(generate_y(X, weight_vector))\n",
    "\n",
    "    return weight_vector, X, y\n",
    "\n",
    "m = 50\n",
    "weight_vector, X, y = generate_data(m)\n",
    "\n",
    "print(\"w_star: \", weight_vector)\n",
    "print(\"X: \", X)\n",
    "print(\"y: \", y)"
   ]
  },
  {
   "cell_type": "markdown",
   "metadata": {
    "id": "wx2-15fASRJy"
   },
   "source": [
    "## Algorithm 1: logistic regression\n",
    "\n",
    "The goal is to learn $w$.  Algorithm 1 is logistic\n",
    "  regression (you may use the built-in method LogisticRegression for this. Use max_iter=1000)."
   ]
  },
  {
   "cell_type": "code",
   "execution_count": 21,
   "metadata": {
    "id": "Vj8b21jgSRJz"
   },
   "outputs": [
    {
     "name": "stdout",
     "output_type": "stream",
     "text": [
      "LR Coef  [[-0.36094276  0.98021383  0.84332625 -0.37307801  0.87295813 -0.27818831\n",
      "   0.42843547 -0.51103838  0.28501404 -0.04590906]]\n",
      "Intercept  [-0.90242885]\n"
     ]
    }
   ],
   "source": [
    "    lr_clf: LogisticRegression = LogisticRegression(random_state=0, max_iter=1000).fit(X, y)\n",
    "    print(\"LR Coef \", lr_clf.coef_)  # returns weights (coefficients)\n",
    "    print(\"Intercept \", lr_clf.intercept_)  # returns intercepts"
   ]
  },
  {
   "cell_type": "markdown",
   "metadata": {
    "id": "YzmNdy6ZSRJ3"
   },
   "source": [
    "## Algorithm 2: gradient descent with square loss\n",
    "\n",
    "Define square loss as\n",
    "$$L_i(w^{(t)}) = \\frac{1}{2} \\left( \\sigma(w^{(t)} \\cdot x) - y_i \\right)^2$$\n",
    "\n",
    "  Algorithm 2 is\n",
    "  gradient descent with respect to square loss (code this\n",
    "  up yourself -- run for 1000 iterations, use step size eta = 0.01)."
   ]
  },
  {
   "cell_type": "markdown",
   "metadata": {
    "id": "GkCo7s9Oq6CF"
   },
   "source": [
    "## Algorithm 3: stochastic gradient descent with square loss\n",
    "Similar to gradient descent, except we use the gradient at a single random training point every iteration."
   ]
  },
  {
   "cell_type": "code",
   "execution_count": 22,
   "metadata": {
    "id": "xHNo-56wq6CF"
   },
   "outputs": [
    {
     "name": "stdout",
     "output_type": "stream",
     "text": [
      "Gradient Descent W' vector  [-0.18612147  0.17454952  0.21073308 -0.09142408  0.22687008 -0.11241018\n",
      "  0.11792117 -0.13157732  0.10678818 -0.06466723]\n",
      "Stochastic Gradient Descent W' vector:  [-0.0446964  -0.05933969 -0.02555553 -0.00068454 -0.00052719  0.0097337\n",
      "  0.00929667 -0.00140612  0.04505165  0.00372675]\n"
     ]
    }
   ],
   "source": [
    "class GradientDescentClassifier:\n",
    "\n",
    "    def sigmoid(self, x):\n",
    "        return 1 / (1 + np.exp(-x))\n",
    "\n",
    "    def sigmoid_derivative(self, x):\n",
    "        return self.sigmoid(x) * (1.0 - self.sigmoid(x))\n",
    "\n",
    "    def calc_input_weights(self, inputs, weights):\n",
    "        return self.sigmoid(np.dot(inputs, weights))\n",
    "    \n",
    "    def __init__(self, step_size=0.01, steps=10):\n",
    "        self.w_prime_vector = None\n",
    "        self.learning_results = None\n",
    "        self.step_size = step_size\n",
    "        self.num_steps = steps\n",
    "\n",
    "    # fits a model using gradient descent\n",
    "    def fit(self, X, y):\n",
    "        # get the number of samples and number of features from the input training data features\n",
    "        num_samples, num_features = X.shape\n",
    "        weights = np.zeros(num_features)\n",
    "        for _ in range(self.num_steps):\n",
    "            # calculate weights against current features X\n",
    "            output = self.calc_input_weights(X, weights)\n",
    "            # calculate the error (difference between desired output (y) and predicted)\n",
    "            error_loss = y - output\n",
    "            # multiply error by X and gradient of sigmoid.\n",
    "            adjustment = np.dot(X.T, error_loss * self.sigmoid_derivative(output))\n",
    "            # adjust weights\n",
    "            weights += (1 / num_samples) * self.step_size * adjustment\n",
    "        self.w_prime_vector = weights\n",
    "        return self\n",
    "\n",
    "    # fits a model using SGD\n",
    "    def fit_sgd(self, X, y, random_state=0):\n",
    "        num_samples, num_features = X.shape\n",
    "        weights = np.zeros(num_features)\n",
    "\n",
    "        # Initializing the random number generator\n",
    "        seed = None if random_state is None else int(random_state)\n",
    "        rng = np.random.default_rng(seed=seed)\n",
    "\n",
    "        for i in range(self.num_steps):\n",
    "            # shuffle x and y\n",
    "            rng.shuffle(X)\n",
    "            rng.shuffle(y)\n",
    "            # calculate weights against current features X\n",
    "            output = self.calc_input_weights(X, weights)\n",
    "            # calculate the error (difference between desired output (y) and predicted)\n",
    "            error_loss = y - output\n",
    "            # multiply error by X and gradient of sigmoid.\n",
    "            adjustment = np.dot(X.T, error_loss * self.sigmoid_derivative(output))\n",
    "            # adjust weights\n",
    "            weights += (1 / num_samples) * self.step_size * adjustment\n",
    "\n",
    "        self.w_prime_vector = weights\n",
    "        return self\n",
    "\n",
    "    def get_w_prime(self):\n",
    "        return self.w_prime_vector\n",
    "\n",
    "# algo #2 - gradient descent classifier\n",
    "gd_clf = GradientDescentClassifier(steps=1000, step_size=0.01).fit(X, y)\n",
    "w_prime_gd = gd_clf.get_w_prime()\n",
    "print(\"Gradient Descent W' vector \", w_prime_gd)\n",
    "\n",
    "# algo #3 stochastic gradient descent classifier\n",
    "sgd_clf = GradientDescentClassifier(steps=1000, step_size=0.01).fit_sgd(X, y)\n",
    "print(\"Stochastic Gradient Descent W' vector: \", sgd_clf.get_w_prime())"
   ]
  },
  {
   "cell_type": "markdown",
   "metadata": {
    "id": "5A-dLi3TSRJ-"
   },
   "source": [
    "## Evaluation\n",
    "\n",
    "Measure error $\\|w - \\hat{w}\\|_2$ for each method at different sample size. For any\n",
    "  fixed value of $m$, choose many different $w$'s and average the\n",
    "  values $\\|w - \n",
    "  \\hat{w}\\|_2$ for Algorithms 1, 2 and 3.  Plot the results\n",
    "  for for each algorithm as you make $m$ large (use $m=50, 100, 150, 200, 250$).\n",
    "  Also record, for each algorithm, the time taken to run the overall experiment."
   ]
  },
  {
   "cell_type": "code",
   "execution_count": 24,
   "metadata": {
    "id": "ciMGYi4Vq6CH"
   },
   "outputs": [
    {
     "name": "stdout",
     "output_type": "stream",
     "text": [
      "average_lr_error_rate_per_m  [1.0570549059445116, 0.7733554197328164, 0.5852172267326188, 0.433560259467629, 0.473600972695548]\n",
      "Total Time Logistic Regression:  0.14613652229309082\n",
      "Total Time Gradient Descent:  1.874532699584961\n",
      "Total Time SGD:  16.426692247390747\n"
     ]
    },
    {
     "data": {
      "text/plain": [
       "<matplotlib.legend.Legend at 0x2890d8623a0>"
      ]
     },
     "execution_count": 24,
     "metadata": {},
     "output_type": "execute_result"
    },
    {
     "data": {
      "image/png": "[encoded data removed]",
      "text/plain": [
       "<Figure size 640x480 with 1 Axes>"
      ]
     },
     "metadata": {},
     "output_type": "display_data"
    }
   ],
   "source": [
    "import time\n",
    "\n",
    "# compare the accuracy of w with w' / w^ with each sample size. \n",
    "# use for different sizes of m\n",
    "# run this several times - 10 times\n",
    "# then records the time taken to run it on average\n",
    "\n",
    "# measures the error and the time taken per algorithm\n",
    "def measure_error_all_classifiers(m):\n",
    "    weight_vector, X, y = generate_data(m)\n",
    "    \n",
    "    # sklearn Logistic Regression\n",
    "    start_lr = time.time()\n",
    "    lr_clf: LogisticRegression = LogisticRegression(random_state=0, max_iter=1000).fit(X, y)\n",
    "    end_lr = time.time()\n",
    "    lr_time_taken = end_lr - start_lr\n",
    "    w_prime_lr = lr_clf.coef_\n",
    "    \n",
    "    # gradient descent\n",
    "    start_gd = time.time()\n",
    "    gd_clf = GradientDescentClassifier(steps=1000, step_size=0.01).fit(X, y)\n",
    "    w_prime_gd = gd_clf.get_w_prime()\n",
    "    end_gd = time.time()\n",
    "    gd_time_taken = end_gd - start_gd\n",
    "\n",
    "    # stochastic gradient descent\n",
    "    start_sgd = time.time()\n",
    "    sgd_clf = GradientDescentClassifier(steps=1000, step_size=0.01).fit_sgd(X, y)\n",
    "    w_prime_sgd = sgd_clf.get_w_prime()\n",
    "    end_sgd = time.time()\n",
    "    sgd_time_taken = end_sgd - start_sgd\n",
    "    \n",
    "    error_lr_clf = np.linalg.norm(weight_vector - w_prime_lr)\n",
    "    error_lr_gd = np.linalg.norm(weight_vector - w_prime_gd)\n",
    "    error_lr_sgd = np.linalg.norm(weight_vector - w_prime_sgd)\n",
    "    \n",
    "    return error_lr_clf, error_lr_gd, error_lr_sgd, lr_time_taken, gd_time_taken, sgd_time_taken\n",
    "\n",
    "def run_all_m_samples(num_iterations):\n",
    "    total_time_taken_lr = 0\n",
    "    total_time_taken_gd = 0\n",
    "    total_time_taken_sgd = 0\n",
    "    \n",
    "    list_of_m = [50, 100, 150, 200, 250]\n",
    "    \n",
    "    average_lr_error_rate_per_m = []\n",
    "    average_gd_error_rate_per_m = []\n",
    "    average_sgd_error_rate_per_m = []\n",
    "        \n",
    "    for m in list_of_m:\n",
    "        total_error_rate_lr = 0.0\n",
    "        total_error_rate_gd = 0.0\n",
    "        total_error_rate_sgd = 0.0\n",
    "        for _ in range(num_iterations):\n",
    "            error_lr_clf, error_lr_gd, error_lr_sgd, lr_time_taken, gd_time_taken, sgd_time_taken = measure_error_all_classifiers(m)        \n",
    "            total_time_taken_lr += lr_time_taken\n",
    "            total_time_taken_gd += gd_time_taken\n",
    "            total_time_taken_sgd += sgd_time_taken\n",
    "            \n",
    "            total_error_rate_lr += error_lr_clf\n",
    "            total_error_rate_gd += error_lr_gd\n",
    "            total_error_rate_sgd += error_lr_sgd\n",
    "        \n",
    "        average_lr_error_rate_per_m.append(total_error_rate_lr / num_iterations)\n",
    "        average_gd_error_rate_per_m.append(total_error_rate_gd / num_iterations)\n",
    "        average_sgd_error_rate_per_m.append(total_error_rate_sgd / num_iterations)\n",
    "    \n",
    "    print(\"average_lr_error_rate_per_m \", average_lr_error_rate_per_m)\n",
    "    \n",
    "    return list_of_m, average_lr_error_rate_per_m, average_gd_error_rate_per_m, average_sgd_error_rate_per_m, total_time_taken_lr, total_time_taken_gd, total_time_taken_sgd\n",
    "        \n",
    "\n",
    "list_of_m, lr_avg_e, gd_avg_e, sgd_avg_e, time_lr, time_gd, time_sgd = run_all_m_samples(10)\n",
    "\n",
    "print(\"Total Time Logistic Regression: \", time_lr)\n",
    "print(\"Total Time Gradient Descent: \", time_gd)\n",
    "print(\"Total Time SGD: \", time_sgd)\n",
    "\n",
    "plt.plot(list_of_m, lr_avg_e, label=\"M Size / Logistic Regression Success Measure\")\n",
    "plt.plot(list_of_m, gd_avg_e, label=\"M Size / Gradient Descent Success Measure\")\n",
    "plt.plot(list_of_m, sgd_avg_e, label=\"M Size / Stochastic Gradient Descent (SGD) Success Measure\")\n",
    "\n",
    "plt.title(\"M Size / Error Rate\")\n",
    "plt.xlabel(\"Sample (M) Size\")\n",
    "plt.ylabel(\"Error\")\n",
    "\n",
    "plt.legend(loc=\"best\", shadow=True)\n"
   ]
  },
  {
   "cell_type": "markdown",
   "metadata": {
    "id": "5HVIWkFzq6CH"
   },
   "source": [
    "# Problem 2"
   ]
  },
  {
   "cell_type": "code",
   "execution_count": 25,
   "metadata": {
    "id": "ljJ8LqMAq6CH"
   },
   "outputs": [],
   "source": [
    "from sklearn import datasets, tree\n",
    "from sklearn.ensemble import AdaBoostClassifier\n",
    "from sklearn.model_selection import KFold, cross_val_score\n",
    "import matplotlib.pyplot as plt"
   ]
  },
  {
   "cell_type": "code",
   "execution_count": 26,
   "metadata": {
    "id": "Nozi_7aYq6CH"
   },
   "outputs": [],
   "source": [
    "cancer = datasets.load_breast_cancer()"
   ]
  },
  {
   "cell_type": "markdown",
   "metadata": {
    "id": "e2pmw8njq6CI"
   },
   "source": [
    "For each depth in $1, \\dots, 5$, instantiate an AdaBoost classifier with the base learner set to be a decision tree of that depth (set `n_estimators=10` and `learning_rate=1`), and then record the 10-fold cross-validated error on the entire breast cancer data set. Plot the resulting curve of accuracy against base classifier depth. Use $101$ as your random state for both the base learner as well as the AdaBoost classifier every time."
   ]
  },
  {
   "cell_type": "code",
   "execution_count": 27,
   "metadata": {
    "id": "fWNjLf4Vq6CI"
   },
   "outputs": [
    {
     "data": {
      "text/plain": [
       "<matplotlib.legend.Legend at 0x2890dcc7100>"
      ]
     },
     "execution_count": 27,
     "metadata": {},
     "output_type": "execute_result"
    },
    {
     "data": {
      "image/png": "[encoded data removed]",
      "text/plain": [
       "<Figure size 640x480 with 1 Axes>"
      ]
     },
     "metadata": {},
     "output_type": "display_data"
    }
   ],
   "source": [
    "# For each depth in 1,…,5, instantiate an AdaBoost classifier with the base learner\n",
    "# set to be a decision tree of that depth (set n_estimators=10 and learning_rate=1),\n",
    "# and then record the 10-fold cross-validated error on the entire breast cancer data set.\n",
    "# Plot the resulting curve of accuracy against base classifier depth.\n",
    "# Use 101 as your random state for both the base learner as well as the AdaBoost classifier every time.\n",
    "\n",
    "RANDOM_STATE = 101\n",
    "FOLDS = 10\n",
    "\n",
    "X, y = cancer.data, cancer.target\n",
    "\n",
    "depth_x_axis = []\n",
    "cross_val_acc_score_means = []\n",
    "for i in range(5):\n",
    "    max_depth_cv = i + 1\n",
    "    dt_clf_model = tree.DecisionTreeClassifier(random_state=RANDOM_STATE, max_depth=max_depth_cv).fit(X, y)\n",
    "    ada_clf = AdaBoostClassifier(estimator=dt_clf_model, n_estimators=10,\n",
    "                                 learning_rate=1).fit(X, y)\n",
    "    kf = KFold(n_splits=FOLDS, shuffle=True, random_state=RANDOM_STATE)\n",
    "    scores = cross_val_score(ada_clf, X, y, cv=kf)\n",
    "    cross_val_scores_mean = scores.mean()\n",
    "    depth_x_axis.append(max_depth_cv)\n",
    "    cross_val_acc_score_means.append(cross_val_scores_mean)\n",
    "\n",
    "plt.plot(depth_x_axis, cross_val_acc_score_means, label=\"Tree Max Depth / Cross Validation Accuracy\")\n",
    "\n",
    "plt.title(\"Decision Tree - Max Depth / Accuracy\")\n",
    "plt.xlabel(\"Max Depth\")\n",
    "plt.ylabel(\"Accuracy\")\n",
    "\n",
    "plt.legend(loc=\"best\", shadow=True)\n",
    "\n",
    "# note: may need to wait a little bit when running this part - wait 10-20 seconds if running it."
   ]
  },
  {
   "cell_type": "code",
   "execution_count": null,
   "metadata": {},
   "outputs": [],
   "source": []
  }
 ],
 "metadata": {
  "colab": {
   "provenance": []
  },
  "kernelspec": {
   "display_name": "Python 3 (ipykernel)",
   "language": "python",
   "name": "python3"
  },
  "language_info": {
   "codemirror_mode": {
    "name": "ipython",
    "version": 3
   },
   "file_extension": ".py",
   "mimetype": "text/x-python",
   "name": "python",
   "nbconvert_exporter": "python",
   "pygments_lexer": "ipython3",
   "version": "3.9.13"
  }
 },
 "nbformat": 4,
 "nbformat_minor": 1
}
